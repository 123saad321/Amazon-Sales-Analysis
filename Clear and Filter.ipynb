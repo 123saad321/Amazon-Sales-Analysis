{
 "cells": [
  {
   "cell_type": "code",
   "execution_count": 1,
   "id": "2b498a2e",
   "metadata": {},
   "outputs": [],
   "source": [
    "import pandas as pd"
   ]
  },
  {
   "cell_type": "code",
   "execution_count": 2,
   "id": "dcc04573",
   "metadata": {},
   "outputs": [],
   "source": [
    "df = pd.read_csv(\"amazon.csv\")"
   ]
  },
  {
   "cell_type": "code",
   "execution_count": 3,
   "id": "3aea2043",
   "metadata": {},
   "outputs": [],
   "source": [
    "for col in [\"discounted_price\", \"actual_price\"]:\n",
    "    df[col] = df[col].replace('[₹,]', '', regex=True).astype(float)"
   ]
  },
  {
   "cell_type": "code",
   "execution_count": 4,
   "id": "9e3e9752",
   "metadata": {},
   "outputs": [],
   "source": [
    "df[\"discount_percentage\"] = df[\"discount_percentage\"].str.replace('%', '').astype(float)"
   ]
  },
  {
   "cell_type": "code",
   "execution_count": 5,
   "id": "16a76aa3",
   "metadata": {},
   "outputs": [],
   "source": [
    "df[\"rating\"] = pd.to_numeric(df[\"rating\"], errors=\"coerce\")\n",
    "df[\"rating_count\"] = df[\"rating_count\"].replace(',', '', regex=True).astype(float)"
   ]
  },
  {
   "cell_type": "code",
   "execution_count": 6,
   "id": "e3f95d03",
   "metadata": {},
   "outputs": [],
   "source": [
    "df.drop_duplicates(subset=[\"product_id\"], inplace=True)"
   ]
  },
  {
   "cell_type": "code",
   "execution_count": 7,
   "id": "763acab2",
   "metadata": {},
   "outputs": [],
   "source": [
    "df.dropna(subset=[\"discounted_price\", \"actual_price\", \"rating\"], inplace=True)"
   ]
  },
  {
   "cell_type": "code",
   "execution_count": 8,
   "id": "05b95227",
   "metadata": {},
   "outputs": [],
   "source": [
    "df = df[(df[\"rating\"] >= 3) & (df[\"rating_count\"] >= 50)]"
   ]
  },
  {
   "cell_type": "code",
   "execution_count": 9,
   "id": "bfd5be77",
   "metadata": {},
   "outputs": [
    {
     "name": "stdout",
     "output_type": "stream",
     "text": [
      "✅ Cleaned and filtered CSV saved as cleaned_amazon_sales.csv\n"
     ]
    }
   ],
   "source": [
    "df.to_csv(\"cleaned_amazon_sales.csv\", index=False)\n",
    "print(\"✅ Cleaned and filtered CSV saved as cleaned_amazon_sales.csv\")"
   ]
  },
  {
   "cell_type": "code",
   "execution_count": null,
   "id": "708dcbbd",
   "metadata": {},
   "outputs": [],
   "source": []
  }
 ],
 "metadata": {
  "kernelspec": {
   "display_name": "Python 3 (ipykernel)",
   "language": "python",
   "name": "python3"
  },
  "language_info": {
   "codemirror_mode": {
    "name": "ipython",
    "version": 3
   },
   "file_extension": ".py",
   "mimetype": "text/x-python",
   "name": "python",
   "nbconvert_exporter": "python",
   "pygments_lexer": "ipython3",
   "version": "3.7.9"
  }
 },
 "nbformat": 4,
 "nbformat_minor": 5
}
